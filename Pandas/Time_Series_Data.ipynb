{
  "nbformat": 4,
  "nbformat_minor": 0,
  "metadata": {
    "colab": {
      "provenance": [],
      "authorship_tag": "ABX9TyMU3JG2ekz323CDfwXnSZ1+"
    },
    "kernelspec": {
      "name": "python3",
      "display_name": "Python 3"
    },
    "language_info": {
      "name": "python"
    }
  },
  "cells": [
    {
      "cell_type": "markdown",
      "source": [
        "##**12. 시계열 데이터**\n",
        "* 날씨 관측 데이터, 에볼라 전염병으로 인한 사망자 수 관측 데이터, 빌보드 차트 데이터 등\n",
        "* 일정 시간 간격으로 값을 기록한 데이터에서는 시계열 데이터가 매우 중요함"
      ],
      "metadata": {
        "id": "T3jPVrroN9uc"
      }
    },
    {
      "cell_type": "markdown",
      "source": [
        "####**12-1 datetime 오브젝트**\n",
        "datetime 라이브러리 : 날짜와 시간을 처리하는 등의 다양한 기능을 제공하는 파이썬 라이브러리\n",
        "- date 오브젝트 : 날짜를 처리\n",
        "- time 오브젝트 : 시간을 처리\n",
        "- datetime 오브젝트 : 날짜와 시간을 모두 처리\n"
      ],
      "metadata": {
        "id": "ZO1cwKYEOOuD"
      }
    },
    {
      "cell_type": "markdown",
      "source": [
        "#####datetime 오브젝트 사용하기\n",
        "\n",
        "\n",
        "```\n",
        "from datetime import datetime\n",
        "```\n",
        "\n"
      ],
      "metadata": {
        "id": "R_cPZwQMO5O5"
      }
    },
    {
      "cell_type": "code",
      "execution_count": 1,
      "metadata": {
        "id": "ievhcPQUL5Ow"
      },
      "outputs": [],
      "source": [
        "from datetime import datetime"
      ]
    },
    {
      "cell_type": "code",
      "source": [
        "#현재 시간 출력하기\n",
        "now1= datetime.now()\n",
        "print(now1)"
      ],
      "metadata": {
        "colab": {
          "base_uri": "https://localhost:8080/"
        },
        "id": "HEoH_J0zPDEZ",
        "outputId": "70d1eb7b-f991-4694-f513-e2703367ac48"
      },
      "execution_count": 2,
      "outputs": [
        {
          "output_type": "stream",
          "name": "stdout",
          "text": [
            "2022-10-09 10:13:39.880899\n"
          ]
        }
      ]
    },
    {
      "cell_type": "code",
      "source": [
        "now2= datetime.today()\n",
        "print(now2)"
      ],
      "metadata": {
        "colab": {
          "base_uri": "https://localhost:8080/"
        },
        "id": "tVUr7XQGPJ2N",
        "outputId": "da47eb91-55a1-4b1c-8c4b-54878ca391f0"
      },
      "execution_count": 3,
      "outputs": [
        {
          "output_type": "stream",
          "name": "stdout",
          "text": [
            "2022-10-09 10:14:14.200938\n"
          ]
        }
      ]
    },
    {
      "cell_type": "code",
      "source": [
        "#datetime 오브젝트 생성 시 시간을 직접 입력하여 인자로 전달\n",
        "t1= datetime.now()\n",
        "t2= datetime(2022,1,1)\n",
        "t3= datetime(2022,12,12,13,24,34)\n",
        "\n",
        "print(t1)\n",
        "print(t2)\n",
        "print(t3)\n"
      ],
      "metadata": {
        "colab": {
          "base_uri": "https://localhost:8080/"
        },
        "id": "A0gLqvehPVSQ",
        "outputId": "aa918424-39c3-47dc-fdde-1be83f1f68f3"
      },
      "execution_count": 4,
      "outputs": [
        {
          "output_type": "stream",
          "name": "stdout",
          "text": [
            "2022-10-09 10:34:46.482422\n",
            "2022-01-01 00:00:00\n",
            "2022-12-12 13:24:34\n"
          ]
        }
      ]
    },
    {
      "cell_type": "code",
      "source": [
        "#datetime 오브젝트로 시간 계산하기\n",
        "diff1=t1-t2\n",
        "diff2=t2-t1\n",
        "\n",
        "print(diff1)\n",
        "print(type(diff1))\n",
        "print(diff2)\n",
        "print(type(diff2))"
      ],
      "metadata": {
        "colab": {
          "base_uri": "https://localhost:8080/"
        },
        "id": "5bMtdN24ULmg",
        "outputId": "2cbf5873-bb11-491a-d8b0-63440c293995"
      },
      "execution_count": 6,
      "outputs": [
        {
          "output_type": "stream",
          "name": "stdout",
          "text": [
            "281 days, 10:34:46.482422\n",
            "<class 'datetime.timedelta'>\n",
            "-282 days, 13:25:13.517578\n",
            "<class 'datetime.timedelta'>\n"
          ]
        }
      ]
    },
    {
      "cell_type": "markdown",
      "source": [
        "####**12-2 사례별 시계열 데이터 계산하기**\n",
        "\n"
      ],
      "metadata": {
        "id": "NBw4vjtCUniW"
      }
    },
    {
      "cell_type": "markdown",
      "source": [
        "##### **테슬라 주식 데이터로 시간 계산하기**\n",
        "\n",
        "pandas-datareader 라이브러리로 주식 데이터 불러오기"
      ],
      "metadata": {
        "id": "JblgOvJbUt8_"
      }
    },
    {
      "cell_type": "code",
      "source": [
        "pip install pandas-datareader"
      ],
      "metadata": {
        "colab": {
          "base_uri": "https://localhost:8080/"
        },
        "id": "dNvOkvR7U9wd",
        "outputId": "ea6d53a7-4927-4680-d78f-aa27e18dd9f0"
      },
      "execution_count": 7,
      "outputs": [
        {
          "output_type": "stream",
          "name": "stdout",
          "text": [
            "Looking in indexes: https://pypi.org/simple, https://us-python.pkg.dev/colab-wheels/public/simple/\n",
            "Requirement already satisfied: pandas-datareader in /usr/local/lib/python3.7/dist-packages (0.9.0)\n",
            "Requirement already satisfied: pandas>=0.23 in /usr/local/lib/python3.7/dist-packages (from pandas-datareader) (1.3.5)\n",
            "Requirement already satisfied: lxml in /usr/local/lib/python3.7/dist-packages (from pandas-datareader) (4.9.1)\n",
            "Requirement already satisfied: requests>=2.19.0 in /usr/local/lib/python3.7/dist-packages (from pandas-datareader) (2.23.0)\n",
            "Requirement already satisfied: pytz>=2017.3 in /usr/local/lib/python3.7/dist-packages (from pandas>=0.23->pandas-datareader) (2022.4)\n",
            "Requirement already satisfied: numpy>=1.17.3 in /usr/local/lib/python3.7/dist-packages (from pandas>=0.23->pandas-datareader) (1.21.6)\n",
            "Requirement already satisfied: python-dateutil>=2.7.3 in /usr/local/lib/python3.7/dist-packages (from pandas>=0.23->pandas-datareader) (2.8.2)\n",
            "Requirement already satisfied: six>=1.5 in /usr/local/lib/python3.7/dist-packages (from python-dateutil>=2.7.3->pandas>=0.23->pandas-datareader) (1.15.0)\n",
            "Requirement already satisfied: certifi>=2017.4.17 in /usr/local/lib/python3.7/dist-packages (from requests>=2.19.0->pandas-datareader) (2022.9.24)\n",
            "Requirement already satisfied: idna<3,>=2.5 in /usr/local/lib/python3.7/dist-packages (from requests>=2.19.0->pandas-datareader) (2.10)\n",
            "Requirement already satisfied: urllib3!=1.25.0,!=1.25.1,<1.26,>=1.21.1 in /usr/local/lib/python3.7/dist-packages (from requests>=2.19.0->pandas-datareader) (1.24.3)\n",
            "Requirement already satisfied: chardet<4,>=3.0.2 in /usr/local/lib/python3.7/dist-packages (from requests>=2.19.0->pandas-datareader) (3.0.4)\n"
          ]
        }
      ]
    },
    {
      "cell_type": "code",
      "source": [
        "import pandas as pd"
      ],
      "metadata": {
        "id": "VGufeQqqVaE9"
      },
      "execution_count": 8,
      "outputs": []
    },
    {
      "cell_type": "code",
      "source": [
        "from google.colab import drive\n",
        "drive.mount('/content/drive')"
      ],
      "metadata": {
        "colab": {
          "base_uri": "https://localhost:8080/"
        },
        "id": "ezQr15j1VqRd",
        "outputId": "6fcb194a-2a13-4c3b-c8a4-177745f948f1"
      },
      "execution_count": 9,
      "outputs": [
        {
          "output_type": "stream",
          "name": "stdout",
          "text": [
            "Mounted at /content/drive\n"
          ]
        }
      ]
    },
    {
      "cell_type": "code",
      "source": [
        "#테슬라 주식 데이터 내려받기\n",
        "pd.core.common.is_list_like=pd.api.types.is_list_like\n",
        "import pandas_datareader as pdr\n",
        "\n",
        "#tesla에는 데이터프레임이 저장됨\n",
        "tesla=pdr.get_data_quandl('TSLA',api_key='mrH-DFgugAS4a7uEuAvU')\n",
        "\n",
        "#tesla에 저장된 데이터프레임을 파일로 저장\n",
        "tesla.to_csv('/content/drive/MyDrive/ESAA/22-2/DATA/tesla_stock_quandl.csv')"
      ],
      "metadata": {
        "id": "R6DB70ZOU_of"
      },
      "execution_count": 14,
      "outputs": []
    },
    {
      "cell_type": "code",
      "source": [
        "#tesla 데이터프레임의 Date열은 문자열로 지정-> datetime 오브젝트로 자료형 변환\n",
        "\n",
        "print(tesla.head())"
      ],
      "metadata": {
        "colab": {
          "base_uri": "https://localhost:8080/"
        },
        "id": "nRX-EEF1X2Nd",
        "outputId": "74b1c27b-e8a2-4151-e438-493417ce209c"
      },
      "execution_count": 15,
      "outputs": [
        {
          "output_type": "stream",
          "name": "stdout",
          "text": [
            "              Open    High     Low   Close      Volume  ExDividend  \\\n",
            "Date                                                                 \n",
            "2018-03-27  304.00  304.27  277.18  279.18  13696168.0         0.0   \n",
            "2018-03-26  307.34  307.59  291.36  304.18   8324639.0         0.0   \n",
            "2018-03-23  311.25  311.61  300.45  301.54   6600538.0         0.0   \n",
            "2018-03-22  313.89  318.82  308.18  309.10   4914307.0         0.0   \n",
            "2018-03-21  310.25  322.44  310.19  316.53   5927881.0         0.0   \n",
            "\n",
            "            SplitRatio  AdjOpen  AdjHigh  AdjLow  AdjClose   AdjVolume  \n",
            "Date                                                                    \n",
            "2018-03-27         1.0   304.00   304.27  277.18    279.18  13696168.0  \n",
            "2018-03-26         1.0   307.34   307.59  291.36    304.18   8324639.0  \n",
            "2018-03-23         1.0   311.25   311.61  300.45    301.54   6600538.0  \n",
            "2018-03-22         1.0   313.89   318.82  308.18    309.10   4914307.0  \n",
            "2018-03-21         1.0   310.25   322.44  310.19    316.53   5927881.0  \n"
          ]
        }
      ]
    },
    {
      "cell_type": "code",
      "source": [
        "#Date->Datetime : parse_dates 인자에 Date열을 전달\n",
        "tesla=pd.read_csv('/content/drive/MyDrive/ESAA/22-2/DATA/tesla_stock_quandl.csv',parse_dates=[0])\n",
        "print(tesla.info())"
      ],
      "metadata": {
        "colab": {
          "base_uri": "https://localhost:8080/"
        },
        "id": "l4TnhqpWYWpw",
        "outputId": "1e1e2e58-d39c-49a1-fb87-79cecad06aee"
      },
      "execution_count": 16,
      "outputs": [
        {
          "output_type": "stream",
          "name": "stdout",
          "text": [
            "<class 'pandas.core.frame.DataFrame'>\n",
            "RangeIndex: 115 entries, 0 to 114\n",
            "Data columns (total 13 columns):\n",
            " #   Column      Non-Null Count  Dtype         \n",
            "---  ------      --------------  -----         \n",
            " 0   Date        115 non-null    datetime64[ns]\n",
            " 1   Open        115 non-null    float64       \n",
            " 2   High        115 non-null    float64       \n",
            " 3   Low         115 non-null    float64       \n",
            " 4   Close       115 non-null    float64       \n",
            " 5   Volume      115 non-null    float64       \n",
            " 6   ExDividend  115 non-null    float64       \n",
            " 7   SplitRatio  115 non-null    float64       \n",
            " 8   AdjOpen     115 non-null    float64       \n",
            " 9   AdjHigh     115 non-null    float64       \n",
            " 10  AdjLow      115 non-null    float64       \n",
            " 11  AdjClose    115 non-null    float64       \n",
            " 12  AdjVolume   115 non-null    float64       \n",
            "dtypes: datetime64[ns](1), float64(12)\n",
            "memory usage: 11.8 KB\n",
            "None\n"
          ]
        }
      ]
    },
    {
      "cell_type": "code",
      "source": [
        "#datetime 오브젝트로 변환됨, dt접근자를 사용할 수 있음\n",
        "#불린 추출로 2017년 10월 데이터 추출\n",
        "\n",
        "print(tesla.loc[(tesla.Date.dt.year == 2017)&(tesla.Date.dt.month == 10)])"
      ],
      "metadata": {
        "colab": {
          "base_uri": "https://localhost:8080/"
        },
        "id": "m2l6jpq0YvVW",
        "outputId": "1657a90c-2b0f-438e-f716-1884bffa9b4a"
      },
      "execution_count": 31,
      "outputs": [
        {
          "output_type": "stream",
          "name": "stdout",
          "text": [
            "          Date    Open      High       Low   Close     Volume  ExDividend  \\\n",
            "99  2017-10-31  320.23  331.9500  320.1800  331.53  5532647.0         0.0   \n",
            "100 2017-10-30  319.18  323.7800  317.2500  320.08  4236029.0         0.0   \n",
            "101 2017-10-27  319.75  324.5900  316.6600  320.87  6942493.0         0.0   \n",
            "102 2017-10-26  327.78  330.2300  323.2000  326.17  4980316.0         0.0   \n",
            "103 2017-10-25  336.70  337.5000  323.5600  325.84  8547764.0         0.0   \n",
            "104 2017-10-24  338.80  342.8000  336.1600  337.34  4463807.0         0.0   \n",
            "105 2017-10-23  349.88  349.9500  336.2500  337.02  5715817.0         0.0   \n",
            "106 2017-10-20  352.69  354.5500  344.3400  345.10  4888221.0         0.0   \n",
            "107 2017-10-19  355.56  357.1465  348.2000  351.81  5032884.0         0.0   \n",
            "108 2017-10-18  355.97  363.0000  354.1300  359.65  4898808.0         0.0   \n",
            "109 2017-10-17  350.91  356.2200  350.0700  355.75  3280670.0         0.0   \n",
            "110 2017-10-16  353.76  354.4800  347.1600  350.60  5353262.0         0.0   \n",
            "111 2017-10-13  356.98  358.4900  353.6800  355.57  3528413.0         0.0   \n",
            "112 2017-10-12  352.95  359.7800  352.6400  355.68  4047318.0         0.0   \n",
            "113 2017-10-11  353.89  357.6000  351.1500  354.60  4476769.0         0.0   \n",
            "114 2017-10-10  346.80  355.6300  345.5305  355.59  6914972.0         0.0   \n",
            "\n",
            "     SplitRatio  AdjOpen   AdjHigh    AdjLow  AdjClose  AdjVolume  \n",
            "99          1.0   320.23  331.9500  320.1800    331.53  5532647.0  \n",
            "100         1.0   319.18  323.7800  317.2500    320.08  4236029.0  \n",
            "101         1.0   319.75  324.5900  316.6600    320.87  6942493.0  \n",
            "102         1.0   327.78  330.2300  323.2000    326.17  4980316.0  \n",
            "103         1.0   336.70  337.5000  323.5600    325.84  8547764.0  \n",
            "104         1.0   338.80  342.8000  336.1600    337.34  4463807.0  \n",
            "105         1.0   349.88  349.9500  336.2500    337.02  5715817.0  \n",
            "106         1.0   352.69  354.5500  344.3400    345.10  4888221.0  \n",
            "107         1.0   355.56  357.1465  348.2000    351.81  5032884.0  \n",
            "108         1.0   355.97  363.0000  354.1300    359.65  4898808.0  \n",
            "109         1.0   350.91  356.2200  350.0700    355.75  3280670.0  \n",
            "110         1.0   353.76  354.4800  347.1600    350.60  5353262.0  \n",
            "111         1.0   356.98  358.4900  353.6800    355.57  3528413.0  \n",
            "112         1.0   352.95  359.7800  352.6400    355.68  4047318.0  \n",
            "113         1.0   353.89  357.6000  351.1500    354.60  4476769.0  \n",
            "114         1.0   346.80  355.6300  345.5305    355.59  6914972.0  \n"
          ]
        }
      ]
    },
    {
      "cell_type": "markdown",
      "source": [
        "#####**datetime 오브젝트와 인덱스-DatetimeIndex**\n",
        "datetime오브젝트를 데이터프레임의 인덱스로 설정하면 원하는 시간의 데이터를 바로 추출할 수 있어 편리함"
      ],
      "metadata": {
        "id": "HEtCTohtZwFw"
      }
    },
    {
      "cell_type": "code",
      "source": [
        "#Date열을 tesla 데이터프레임의 인덱스로 설정\n",
        "tesla.index=tesla['Date']\n",
        "print(tesla.index)"
      ],
      "metadata": {
        "colab": {
          "base_uri": "https://localhost:8080/"
        },
        "id": "RR7InCpDZvdi",
        "outputId": "970352ed-b5a1-41a2-b37d-aaa0c3cad6cc"
      },
      "execution_count": 32,
      "outputs": [
        {
          "output_type": "stream",
          "name": "stdout",
          "text": [
            "DatetimeIndex(['2018-03-27', '2018-03-26', '2018-03-23', '2018-03-22',\n",
            "               '2018-03-21', '2018-03-20', '2018-03-19', '2018-03-16',\n",
            "               '2018-03-15', '2018-03-14',\n",
            "               ...\n",
            "               '2017-10-23', '2017-10-20', '2017-10-19', '2017-10-18',\n",
            "               '2017-10-17', '2017-10-16', '2017-10-13', '2017-10-12',\n",
            "               '2017-10-11', '2017-10-10'],\n",
            "              dtype='datetime64[ns]', name='Date', length=115, freq=None)\n"
          ]
        }
      ]
    },
    {
      "cell_type": "code",
      "source": [
        "#datetime오브젝트를 인덱스로 지정하면 원하는 시간의 데이터를 바로 추출할 수 있음\n",
        "#2018년 데이터 추출\n",
        "\n",
        "print(tesla['2018'].iloc[:5,:5])"
      ],
      "metadata": {
        "colab": {
          "base_uri": "https://localhost:8080/"
        },
        "id": "zwa9QZiraISO",
        "outputId": "27b05a69-eb81-4c8f-8106-4bb5e116d5f4"
      },
      "execution_count": 33,
      "outputs": [
        {
          "output_type": "stream",
          "name": "stdout",
          "text": [
            "                 Date    Open    High     Low   Close\n",
            "Date                                                 \n",
            "2018-03-27 2018-03-27  304.00  304.27  277.18  279.18\n",
            "2018-03-26 2018-03-26  307.34  307.59  291.36  304.18\n",
            "2018-03-23 2018-03-23  311.25  311.61  300.45  301.54\n",
            "2018-03-22 2018-03-22  313.89  318.82  308.18  309.10\n",
            "2018-03-21 2018-03-21  310.25  322.44  310.19  316.53\n"
          ]
        },
        {
          "output_type": "stream",
          "name": "stderr",
          "text": [
            "/usr/local/lib/python3.7/dist-packages/ipykernel_launcher.py:4: FutureWarning: Indexing a DataFrame with a datetimelike index using a single string to slice the rows, like `frame[string]`, is deprecated and will be removed in a future version. Use `frame.loc[string]` instead.\n",
            "  after removing the cwd from sys.path.\n"
          ]
        }
      ]
    },
    {
      "cell_type": "markdown",
      "source": [
        "#####**시간 간격과 인덱스-TimedeltaIndex**"
      ],
      "metadata": {
        "id": "ToFcMsxkc9Gw"
      }
    },
    {
      "cell_type": "code",
      "source": [
        "#Date 열에서 Date열의 최솟값을 빼면 데이터 수집 이후 시간이 얼마나 흘렀는지 알 수 있음\n",
        "tesla['ref_date'] = tesla['Date'] - tesla['Date'].min( ) \n",
        "print(tesla.head( ))\n"
      ],
      "metadata": {
        "colab": {
          "base_uri": "https://localhost:8080/"
        },
        "id": "EmWHnLXrdCT3",
        "outputId": "fa874846-7a36-4d51-90b2-49ebac2d7290"
      },
      "execution_count": 34,
      "outputs": [
        {
          "output_type": "stream",
          "name": "stdout",
          "text": [
            "                 Date    Open    High     Low   Close      Volume  ExDividend  \\\n",
            "Date                                                                            \n",
            "2018-03-27 2018-03-27  304.00  304.27  277.18  279.18  13696168.0         0.0   \n",
            "2018-03-26 2018-03-26  307.34  307.59  291.36  304.18   8324639.0         0.0   \n",
            "2018-03-23 2018-03-23  311.25  311.61  300.45  301.54   6600538.0         0.0   \n",
            "2018-03-22 2018-03-22  313.89  318.82  308.18  309.10   4914307.0         0.0   \n",
            "2018-03-21 2018-03-21  310.25  322.44  310.19  316.53   5927881.0         0.0   \n",
            "\n",
            "            SplitRatio  AdjOpen  AdjHigh  AdjLow  AdjClose   AdjVolume  \\\n",
            "Date                                                                     \n",
            "2018-03-27         1.0   304.00   304.27  277.18    279.18  13696168.0   \n",
            "2018-03-26         1.0   307.34   307.59  291.36    304.18   8324639.0   \n",
            "2018-03-23         1.0   311.25   311.61  300.45    301.54   6600538.0   \n",
            "2018-03-22         1.0   313.89   318.82  308.18    309.10   4914307.0   \n",
            "2018-03-21         1.0   310.25   322.44  310.19    316.53   5927881.0   \n",
            "\n",
            "           ref_date  \n",
            "Date                 \n",
            "2018-03-27 168 days  \n",
            "2018-03-26 167 days  \n",
            "2018-03-23 164 days  \n",
            "2018-03-22 163 days  \n",
            "2018-03-21 162 days  \n"
          ]
        }
      ]
    },
    {
      "cell_type": "code",
      "source": [
        "tesla.index=tesla['ref_date']\n",
        "print(tesla.iloc[:5,:5])"
      ],
      "metadata": {
        "colab": {
          "base_uri": "https://localhost:8080/"
        },
        "id": "J4UCnHoYdSWZ",
        "outputId": "4f52ef50-6bf7-490a-c217-1de0f94d9366"
      },
      "execution_count": 35,
      "outputs": [
        {
          "output_type": "stream",
          "name": "stdout",
          "text": [
            "               Date    Open    High     Low   Close\n",
            "ref_date                                           \n",
            "168 days 2018-03-27  304.00  304.27  277.18  279.18\n",
            "167 days 2018-03-26  307.34  307.59  291.36  304.18\n",
            "164 days 2018-03-23  311.25  311.61  300.45  301.54\n",
            "163 days 2018-03-22  313.89  318.82  308.18  309.10\n",
            "162 days 2018-03-21  310.25  322.44  310.19  316.53\n"
          ]
        }
      ]
    },
    {
      "cell_type": "code",
      "source": [
        "#데이터 수집 이후 최초 5일의 데이터\n",
        "print(tesla['5 days':].iloc[:5,:5])"
      ],
      "metadata": {
        "colab": {
          "base_uri": "https://localhost:8080/"
        },
        "id": "hnJCysM2ddwW",
        "outputId": "7c4f3494-0cb6-4cbc-b247-0178cc428a30"
      },
      "execution_count": 37,
      "outputs": [
        {
          "output_type": "stream",
          "name": "stdout",
          "text": [
            "               Date    Open    High       Low   Close\n",
            "ref_date                                             \n",
            "3 days   2017-10-13  356.98  358.49  353.6800  355.57\n",
            "2 days   2017-10-12  352.95  359.78  352.6400  355.68\n",
            "1 days   2017-10-11  353.89  357.60  351.1500  354.60\n",
            "0 days   2017-10-10  346.80  355.63  345.5305  355.59\n"
          ]
        }
      ]
    },
    {
      "cell_type": "markdown",
      "source": [
        "#####**시간 범위와 인덱스**\n",
        "* 특정 일에 누락된 데이터 포함하여 데이터를 살펴보는 방법 \n",
        "  - 임의로 시간 범위 생성해 인덱스 지정\n",
        "* 에볼라 데이터"
      ],
      "metadata": {
        "id": "MfsDwZdNjzhl"
      }
    },
    {
      "cell_type": "code",
      "source": [
        "ebola=pd.read_csv('/content/drive/MyDrive/ESAA/22-2/DATA/country_timeseries.csv',parse_dates=[0])\n",
        "print(ebola.iloc[:5,:5]) #앞쪽 데이터"
      ],
      "metadata": {
        "colab": {
          "base_uri": "https://localhost:8080/"
        },
        "id": "EEw-ItYTj7v2",
        "outputId": "202acd55-e052-4f58-b6b7-340d5c00e9c5"
      },
      "execution_count": 42,
      "outputs": [
        {
          "output_type": "stream",
          "name": "stdout",
          "text": [
            "        Date  Day  Cases_Guinea  Cases_Liberia  Cases_SierraLeone\n",
            "0 2015-01-05  289        2776.0            NaN            10030.0\n",
            "1 2015-01-04  288        2775.0            NaN             9780.0\n",
            "2 2015-01-03  287        2769.0         8166.0             9722.0\n",
            "3 2015-01-02  286           NaN         8157.0                NaN\n",
            "4 2014-12-31  284        2730.0         8115.0             9633.0\n"
          ]
        }
      ]
    },
    {
      "cell_type": "code",
      "source": [
        "print(ebola.iloc[-5:,:5]) #뒤쪽 데이터"
      ],
      "metadata": {
        "colab": {
          "base_uri": "https://localhost:8080/"
        },
        "id": "WMHTzXRYqRpN",
        "outputId": "03d7cc51-5542-4f5d-ec5f-77f8901dd389"
      },
      "execution_count": 43,
      "outputs": [
        {
          "output_type": "stream",
          "name": "stdout",
          "text": [
            "          Date  Day  Cases_Guinea  Cases_Liberia  Cases_SierraLeone\n",
            "117 2014-03-27    5         103.0            8.0                6.0\n",
            "118 2014-03-26    4          86.0            NaN                NaN\n",
            "119 2014-03-25    3          86.0            NaN                NaN\n",
            "120 2014-03-24    2          86.0            NaN                NaN\n",
            "121 2014-03-22    0          49.0            NaN                NaN\n"
          ]
        }
      ]
    },
    {
      "cell_type": "code",
      "source": [
        "#date_range 메서드 이용해 시간 인덱스 생성\n",
        "head_range=pd.date_range(start='2014-12-31',end='2015-01-05')\n",
        "print(head_range)"
      ],
      "metadata": {
        "colab": {
          "base_uri": "https://localhost:8080/"
        },
        "id": "T2U423vlqh7n",
        "outputId": "15bf4a5b-0254-4619-94ae-3b77ccd8a61d"
      },
      "execution_count": 47,
      "outputs": [
        {
          "output_type": "stream",
          "name": "stdout",
          "text": [
            "DatetimeIndex(['2014-12-31', '2015-01-01', '2015-01-02', '2015-01-03',\n",
            "               '2015-01-04', '2015-01-05'],\n",
            "              dtype='datetime64[ns]', freq='D')\n"
          ]
        }
      ]
    },
    {
      "cell_type": "code",
      "source": [
        "#원본 데이터 손상 방지를 위해 새로운 데이터프레임 생성\n",
        "ebola_5 = ebola.head( ) \n",
        "ebola_5.index = ebola_5['Date'] #Date열을 인덱스로 지정\n",
        "ebola_5.reindex(head_range) #시간 범위를 인덱스로 지정\n",
        "print(ebola_5.iloc[:5, :5])"
      ],
      "metadata": {
        "colab": {
          "base_uri": "https://localhost:8080/"
        },
        "id": "9gWwnwr_wgNi",
        "outputId": "fc74cb51-652f-4d8c-a485-78aff14bd603"
      },
      "execution_count": 48,
      "outputs": [
        {
          "output_type": "stream",
          "name": "stdout",
          "text": [
            "                 Date  Day  Cases_Guinea  Cases_Liberia  Cases_SierraLeone\n",
            "Date                                                                      \n",
            "2015-01-05 2015-01-05  289        2776.0            NaN            10030.0\n",
            "2015-01-04 2015-01-04  288        2775.0            NaN             9780.0\n",
            "2015-01-03 2015-01-03  287        2769.0         8166.0             9722.0\n",
            "2015-01-02 2015-01-02  286           NaN         8157.0                NaN\n",
            "2014-12-31 2014-12-31  284        2730.0         8115.0             9633.0\n"
          ]
        }
      ]
    },
    {
      "cell_type": "markdown",
      "source": [
        "#####**시간 범위의 주기 설정하기**\n",
        "시간 범위를 인덱스로 지정하면 DatetimeIndex 자료형이 만들어짐\n",
        "* `freq` : 시간 간격을 조절하여 DatetimeIndex 만들 수 있음\n",
        "\n",
        "\n",
        "\n",
        "> | 시간 주기 | 설명 |\n",
        "|---|---|\n",
        "| B | 평일만 포함 |\n",
        "| C | 사용자가 정의한 평일만 포함 |\n",
        "| D | 달력 일자 단위 |\n",
        "| W | 주간 단위 |\n",
        "| M | 월 마지막 날만 포함 |\n",
        "| SM | 15일과 월 마지막 날만 포함 |\n",
        "| BM | M 주기의 값이 휴일이면 제외하고 평일만 포함 |\n",
        "| CBM | BM에 사용자 정의 평일을 적용 |\n",
        "| MS | 월 시작일만 포함 |\n",
        "| SMS | 월 시작일과 15일만 포함 |\n",
        "| BMS | MS 주기의 값이 휴일이면 제외하고 평일만 포함 |\n",
        "| CBMS | BMS에 사용자 정의 평일을 적용 |\n",
        "| Q | 3 .6 , 9, 12월 분기 마지막 날만 포함 |\n",
        "| BQ | 3. 6, 9. 12월 분기 마지막 날이 휴얼어면 제외하고 평일만 포함 |\n",
        "| QS | 3. 6, 9, 12월 분기 시작일만 포함 |\n",
        "| BQS | 3, 6, 9, 12월 분기 시작일어 휴일이면 제외하고 평일만 포함 |\n",
        "| A | 년의 마지막 날만 포함 |\n",
        "| BA | 년의 마지막 날이 휴일이면 제외하고 평일만 포함 |\n",
        "| AS | 년의 시작일만 포함 |\n",
        "| BAS | 년의 시작일이 휴일이면 제외하고 평일만 포함 |\n",
        "| BH | 평일을 시간 단위로 포함(09:00 ~ 16:00) |\n",
        "| H | 시간 단위로 포함(00:00 ~ 00:00) |\n",
        "| T | 분 단위 포함 |\n",
        "| S | 초 단위 포함 |\n",
        "| L | 밀리초 단위 포함 |\n",
        "| U | 마이크로초 단위 포함 |\n",
        "| N | 나노초 단위 포함 |\n",
        "\n"
      ],
      "metadata": {
        "id": "TnFlbc1rxfDP"
      }
    }
  ]
}
