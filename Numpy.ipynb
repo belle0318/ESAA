{
  "nbformat": 4,
  "nbformat_minor": 0,
  "metadata": {
    "colab": {
      "provenance": [],
      "authorship_tag": "ABX9TyNmP8frGwl3Z2DTl0cRcwdj"
    },
    "kernelspec": {
      "name": "python3",
      "display_name": "Python 3"
    },
    "language_info": {
      "name": "python"
    }
  },
  "cells": [
    {
      "cell_type": "markdown",
      "source": [
        "#**파이썬 머신러닝 완벽 가이드 🐾**"
      ],
      "metadata": {
        "id": "wDF2TH_xAl3L"
      }
    },
    {
      "cell_type": "markdown",
      "source": [
        "#**Ch01. 파이썬 기반의 머신러닝과 생태계 이해**\n",
        "\n",
        "\n",
        "##**01. 머신러닝의 개념**\n",
        "머신러닝(Machine Learning) : 데이터를 기반으로 패턴을 학습하고 결과를 예측하는 알고리즘 기법\n",
        "\n",
        ">**머신러닝의 분류**\n",
        "- 지도학습\n",
        "  - 분류\n",
        "  - 회귀\n",
        "  - 추천 시스템\n",
        "  - 시각/음성 감지/인지\n",
        "  - 텍스트 분석, NLP\n",
        "- 비지도학습\n",
        "  - 클러스터링\n",
        "  - 차원 축소\n",
        "  - 강화학습\n",
        "\n",
        ">**데이터 전쟁**\\\n",
        "Garbage in, Garbage out: 좋은 품질의 데이터를 갖추지 못한다면 머신러닝의 수행 결과는 좋을 수 없음\n",
        "\n",
        ">**파이썬과 R 기반의 머신러닝 비교**\\\n",
        "R은 통계 전용 프로그램 언어, 파이썬은 개발 전문 프로그램 언어\\\n",
        "\"파이썬은 소리 없이 프로그래밍 세계를 점령하고 있는 언어\" - 머신러닝에 유리\n",
        "- 쉽고 뛰어난 개발 생산성\n",
        "- 오픈 소스 계열의 전폭적인 지원을 받고 있음\n",
        "- 인터프리터 언어 특성상 속도는 느리지만 뛰어난 확장성, 유연성, 호환성으로 서버, 네트워크, 시스템, IOT 등 다양한 영역에서 활용\n",
        "- 딥러닝 프레임워크 (텐서플로, 케라스, 파이토치 등)에서 우선 정책으로 지원\n",
        "\n",
        "\n",
        "\n",
        "\n",
        "\n",
        "##**02. 파이썬 머신러닝 생태계를 구성하는 주요 패키지**\n",
        ">* 머신러닝 패키지 : Scikit-Learn (데이터 마이닝 기반의 머신러닝)\n",
        "* 행렬/선형대수/통계 패키지 : NumPy (행렬, 선형대수), SciPy (자연과학, 통계)\n",
        "* 데이터 핸들링 : 판다스 (2차원 데이터 처리, Matplotlib 호출해 시각화 지원)\n",
        "* 시각화 : Matplotlib, Seaborn\n"
      ],
      "metadata": {
        "id": "vayqpvTUAiry"
      }
    },
    {
      "cell_type": "markdown",
      "source": [
        "##**03. 넘파이**\n",
        "Numpy(Numerial Python) : 파이썬에서 선형대수 기반의 프로그램을 쉽게 만들 수 있도록 지원하는 대표적인 패키지\n",
        "- 루프를 사용하지 않고 대량 데이터의 배열 연산을 가능하게 함 -> 빠른 배열 연산 속도\n",
        "- C/C++과 같은 저수준 언어 기반의 호환 API제공\n",
        "- 데이터는 2차원 형태의 행과 열로 이루어짐, 다양한 가공과 변환, 여러가지 통계용 함수의 적용 등이 필요 -> 판다스가 더 편리함\n",
        "\n",
        ">**넘파이 ndarray 개요**\n",
        "<Br/> \n",
        "```\n",
        "import numpy as np\n",
        "```\n",
        "넘파이 기반 데이터타입= ndarray\n",
        "다차원(Multi-dimension) 배열을 쉽게 생성하고 다양한 연산을 수행할 수 있음\n",
        "- array() 함수: 파이썬 리스트와 같은 다양한 인자를 입력 받아서 ndarray 로 변환하는 기능을 수행\n",
        "- 생성된 ndarray 배열의 shape 변수는 ndarray의 크기(행, 열의 수)를 튜플 형태로 가짐, 배열 차원 알 수 있음\n",
        "\n",
        "\n",
        "\n",
        "\n",
        "\n"
      ],
      "metadata": {
        "id": "UwhtgYCnAc3L"
      }
    },
    {
      "cell_type": "code",
      "source": [
        "import numpy as np\n",
        "\n",
        "array1 = np.array([1,2,3])\n",
        "print('array1 type : ', type(array1))\n",
        "print('array1 array 형태 : ', array1.shape) # tuple 형태로 반환\n",
        "\n",
        "array2 = np.array([[1,2,3],\n",
        "                   2,3,4])\n",
        "print('array2 type : ', type(array2))\n",
        "print('array2 array 형태 : ', array2.shape)\n",
        "\n",
        "array3 = np.array([[1,2,3]])\n",
        "print('array3 type : ', type(array3))\n",
        "print('array3 array 형태 : ', array3.shape)\n",
        "\n",
        "print('array1 : {:0}차원, array2: {:1}차원, array3: {:2}차원'.format(array1.ndim, array2.ndim, array3.ndim))"
      ],
      "metadata": {
        "colab": {
          "base_uri": "https://localhost:8080/"
        },
        "id": "8qG7-a2HBoez",
        "outputId": "e52d889f-5e0f-4d1f-d47f-1cab204f57e0"
      },
      "execution_count": 3,
      "outputs": [
        {
          "output_type": "stream",
          "name": "stdout",
          "text": [
            "array1 type :  <class 'numpy.ndarray'>\n",
            "array1 array 형태 :  (3,)\n",
            "array2 type :  <class 'numpy.ndarray'>\n",
            "array2 array 형태 :  (4,)\n",
            "array3 type :  <class 'numpy.ndarray'>\n",
            "array3 array 형태 :  (1, 3)\n",
            "array1 : 1차원, array2: 1차원, array3:  2차원\n"
          ]
        },
        {
          "output_type": "stream",
          "name": "stderr",
          "text": [
            "/usr/local/lib/python3.7/dist-packages/ipykernel_launcher.py:8: VisibleDeprecationWarning: Creating an ndarray from ragged nested sequences (which is a list-or-tuple of lists-or-tuples-or ndarrays with different lengths or shapes) is deprecated. If you meant to do this, you must specify 'dtype=object' when creating the ndarray.\n",
            "  \n"
          ]
        }
      ]
    },
    {
      "cell_type": "markdown",
      "source": [
        ">**ndarray의 데이터 타입**\\\n",
        "ndarray 내의 데이터값은 숫자 값, 문자열 값, bool 값 모두 가능\n",
        "- 숫자형 : int형(8bit,16bit,32bit),unsigned int 형(8bit,16bit,32bit),float 형(16bit,32bit,64bit,128bit), complex type\n",
        "- 하나의 ndarray 객체에는 같은 데이터 타입만 있어야 함\n",
        "```\n",
        "array.dtype() #ndarray 데이터 타입 확인\n",
        "```\n"
      ],
      "metadata": {
        "id": "8tDCNM8EI3lV"
      }
    },
    {
      "cell_type": "code",
      "source": [
        "list1 = [1,2,3]\n",
        "print(type(list1))\n",
        "array1 = np.array(list1)\n",
        "print(type(array1)) \n",
        "print(array1, array1.dtype)"
      ],
      "metadata": {
        "colab": {
          "base_uri": "https://localhost:8080/"
        },
        "id": "vhUtcq_9CiUL",
        "outputId": "52110755-e68c-4309-8ef3-65250d2ef050"
      },
      "execution_count": 4,
      "outputs": [
        {
          "output_type": "stream",
          "name": "stdout",
          "text": [
            "<class 'list'>\n",
            "<class 'numpy.ndarray'>\n",
            "[1 2 3] int64\n"
          ]
        }
      ]
    },
    {
      "cell_type": "code",
      "source": [
        "list2 = [1, 2, 'test'] #int와 string이 섞여있는 경우\n",
        "array2 = np.array(list2)\n",
        "print(array2, array2.dtype) #int->유니코드 문자열\n",
        "\n",
        "list3 = [1, 2, 3.0] #int와 float 섞여있는 경우\n",
        "array3 = np.array(list3)\n",
        "print(array3, array3.dtype) #int가->float64"
      ],
      "metadata": {
        "colab": {
          "base_uri": "https://localhost:8080/"
        },
        "id": "LVe4JQf4E0vQ",
        "outputId": "ecfba57e-cc54-45f0-a142-636359763698"
      },
      "execution_count": 5,
      "outputs": [
        {
          "output_type": "stream",
          "name": "stdout",
          "text": [
            "['1' '2' 'test'] <U21\n",
            "[1. 2. 3.] float64\n"
          ]
        }
      ]
    },
    {
      "cell_type": "code",
      "source": [
        "#int32->float64->int32\n",
        "array_int = np.array([1,2,3])\n",
        "array_float = array_int.astype('float64')\n",
        "print(array_float, array_float.dtype)\n",
        "\n",
        "array_int1 = array_float.astype('int32') #astype() : 메모리 절약해야 할 때\n",
        "print(array_int1, array_int1.dtype)\n",
        "\n",
        "array_float1 = np.array([1.1, 2.1, 3.1])\n",
        "array_int2 = array_float.astype('int32')\n",
        "print(array_int2, array_int2.dtype)"
      ],
      "metadata": {
        "id": "x8ehk5MxE4NI",
        "colab": {
          "base_uri": "https://localhost:8080/"
        },
        "outputId": "0c158cc2-b2ed-4caa-d350-4f781ae500be"
      },
      "execution_count": 6,
      "outputs": [
        {
          "output_type": "stream",
          "name": "stdout",
          "text": [
            "[1. 2. 3.] float64\n",
            "[1 2 3] int32\n",
            "[1 2 3] int32\n"
          ]
        }
      ]
    },
    {
      "cell_type": "markdown",
      "source": [
        ">**ndarray를 편리하게 생성하기-arrange,zeros,ones**\\\n",
        "특정 크기와 차원을 가진 ndarray를 연속값이나 0 or 1로 초기화해 쉽게 생성해야 할 필요가 있는 경우\\\n",
        "테스트용으로 데이터를 만들거나 대규모의 데이터를 일괄적으로 초기화해야 할 경우 사용\n",
        "```\n",
        "arrange(),zeros(),ones()\n",
        "```\n",
        "\n",
        "\n",
        "\n"
      ],
      "metadata": {
        "id": "gBMENlUDK4AL"
      }
    },
    {
      "cell_type": "code",
      "source": [
        "sequence_array=np.arange(10) #range()와 유사한 기능\n",
        "print(sequence_array)\n",
        "print(sequence_array.dtype, sequence_array.shape) #0부터 (인자값-1) 까지 ndarray의 데이터값으로 변환"
      ],
      "metadata": {
        "colab": {
          "base_uri": "https://localhost:8080/"
        },
        "id": "8x_U9thfK4Xn",
        "outputId": "f9137b3b-e8bb-4874-d55a-0d7f6bc489dc"
      },
      "execution_count": 7,
      "outputs": [
        {
          "output_type": "stream",
          "name": "stdout",
          "text": [
            "[0 1 2 3 4 5 6 7 8 9]\n",
            "int64 (10,)\n"
          ]
        }
      ]
    },
    {
      "cell_type": "code",
      "source": [
        "zero_array=np.zeros((3,2), dtype='int32') #튜플 형태의 shape값 입력하면 모든 값을 0으로 채운 ndarray 반환\n",
        "print(zero_array)\n",
        "print(zero_array.dtype, zero_array.shape)\n",
        "\n",
        "one_array=np.ones((3,2)) #dtype 설정하지 않는 경우 default=float64\n",
        "print(one_array)\n",
        "print(one_array.dtype, one_array.shape)"
      ],
      "metadata": {
        "colab": {
          "base_uri": "https://localhost:8080/"
        },
        "id": "5YFUCZLaK6Lx",
        "outputId": "d960150b-7fd6-464b-bc77-3c11b0334850"
      },
      "execution_count": 8,
      "outputs": [
        {
          "output_type": "stream",
          "name": "stdout",
          "text": [
            "[[0 0]\n",
            " [0 0]\n",
            " [0 0]]\n",
            "int32 (3, 2)\n",
            "[[1. 1.]\n",
            " [1. 1.]\n",
            " [1. 1.]]\n",
            "float64 (3, 2)\n"
          ]
        }
      ]
    },
    {
      "cell_type": "markdown",
      "source": [
        ">**ndarray의 차원과 크기를 변경하는 reshape()**\\\n",
        "reshape() : ndarray를 특정 차원 및 크기로 변환, 변환을 원하는 크기를 함수 인자로 부여"
      ],
      "metadata": {
        "id": "Vy1-TQE4K9Ag"
      }
    },
    {
      "cell_type": "code",
      "source": [
        "array1=np.arange(10)\n",
        "print('array1:\\n', array1)\n",
        "\n",
        "array2=array1.reshape(2,5)\n",
        "print('array2:\\n', array2)\n",
        "\n",
        "array3=array1.reshape(5,2)\n",
        "print('array3:\\n', array3)"
      ],
      "metadata": {
        "colab": {
          "base_uri": "https://localhost:8080/"
        },
        "id": "cTtXBoGpK9UB",
        "outputId": "1c658d68-132d-47fd-d983-5047e78b5532"
      },
      "execution_count": 9,
      "outputs": [
        {
          "output_type": "stream",
          "name": "stdout",
          "text": [
            "array1:\n",
            " [0 1 2 3 4 5 6 7 8 9]\n",
            "array2:\n",
            " [[0 1 2 3 4]\n",
            " [5 6 7 8 9]]\n",
            "array3:\n",
            " [[0 1]\n",
            " [2 3]\n",
            " [4 5]\n",
            " [6 7]\n",
            " [8 9]]\n"
          ]
        }
      ]
    },
    {
      "cell_type": "code",
      "source": [
        "#지정된 사이즈로 변경이 불가능하면 오류\n",
        "#array1.reshape(4,3)"
      ],
      "metadata": {
        "id": "xBlFUIWUK_e1"
      },
      "execution_count": 10,
      "outputs": []
    },
    {
      "cell_type": "code",
      "source": [
        "array1=np.arange(10)\n",
        "print(array1)\n",
        "array2=array1.reshape(-1,5) #-1을 인자로 사용하면 원래 ndarray와 호환되는 새로운 shape로 변환\n",
        "print('array2 shape:', array2.shape)\n",
        "array3=array1.reshape(5,-1)\n",
        "print('array3 shape:', array3.shape)"
      ],
      "metadata": {
        "colab": {
          "base_uri": "https://localhost:8080/"
        },
        "id": "wEZP8ds9LApk",
        "outputId": "bda79b37-adcd-40d3-d7d8-9e187f88bd09"
      },
      "execution_count": 11,
      "outputs": [
        {
          "output_type": "stream",
          "name": "stdout",
          "text": [
            "[0 1 2 3 4 5 6 7 8 9]\n",
            "array2 shape: (2, 5)\n",
            "array3 shape: (5, 2)\n"
          ]
        }
      ]
    },
    {
      "cell_type": "code",
      "source": [
        "#사이즈 변경 불가능하면 오류\n",
        "#array1=np.arange(10)\n",
        "#array4=array1.reshape(-1,4)"
      ],
      "metadata": {
        "id": "i-hpDY2uLEZr"
      },
      "execution_count": 24,
      "outputs": []
    },
    {
      "cell_type": "code",
      "source": [
        "array1=np.arange(8)\n",
        "array3d=array1.reshape((2,2,2))\n",
        "print('array3d:\\n', array3d.tolist()) #tolist(): 리스트 자료형으로 변환\n",
        "\n",
        "#3차원 ndarray를 2차원 ndarray로 변환\n",
        "array5=array3d.reshape(-1,1)\n",
        "print('array5:\\n', array5.tolist())\n",
        "print('array5 shape:', array5.shape)\n",
        "\n",
        "#1차원 ndarray를 2차원 ndarray로 변환\n",
        "array6=array1.reshape(-1,1)\n",
        "print('array6:\\n', array6.tolist())\n",
        "print('array6 shape:', array6.shape)"
      ],
      "metadata": {
        "colab": {
          "base_uri": "https://localhost:8080/"
        },
        "id": "VaNYn5qJLJff",
        "outputId": "d5917818-741a-4e69-9269-be0609fd10c0"
      },
      "execution_count": 13,
      "outputs": [
        {
          "output_type": "stream",
          "name": "stdout",
          "text": [
            "array3d:\n",
            " [[[0, 1], [2, 3]], [[4, 5], [6, 7]]]\n",
            "array5:\n",
            " [[0], [1], [2], [3], [4], [5], [6], [7]]\n",
            "array5 shape: (8, 1)\n",
            "array6:\n",
            " [[0], [1], [2], [3], [4], [5], [6], [7]]\n",
            "array6 shape: (8, 1)\n"
          ]
        }
      ]
    },
    {
      "cell_type": "markdown",
      "source": [
        ">**넘파이의 ndarray의 데이터 세트 선택하기- 인덱싱(Indexing)**\\\n",
        "인덱싱 : 넘파이에서 ndarray 내의 일부 데이터 세트나 특정 데이터만을 선택할 수 있도록 함\n",
        "1.   특정한 데이터만 추출 : 원하는 위치의 인덱스 값을 지정하면 해당 위치의 데이터가 반환됨\n",
        "2.   슬라이싱(Slicing) : 연속된 인덱스상의 ndarray를 추출하는 방식, ':' 기호 사이에 시작 인덱스와 종료 인덱스 표시하면 시작 인덱스에서 (종료 인덱스-1) 위치에 있는 데이터의 ndarray 반환\n",
        "3. 팬시 인덱싱(Fancy Indexing) :  일정한 인덱싱 집합을 리스트 또는 ndarray 형태로 지정해 해당 위치에 있는 데이터의 ndarray 반환\n",
        "4. 불린 인덱싱(Boolean Indexing) : 특정 조건에 해당하는지 여부인 True/False 값 인덱싱 집합을 기반으로 True에 해당하는 인덱스 위치에 있는 데이터의 ndarray 반환\n",
        "\n"
      ],
      "metadata": {
        "id": "qJUplmIxLHAG"
      }
    },
    {
      "cell_type": "markdown",
      "source": [
        "**단일 값 추출**\\\n",
        "ndarray 객체에 해당하는 위치의 인덱스 값을 [ ] 안에 입력"
      ],
      "metadata": {
        "id": "JpjXM-dLU5i0"
      }
    },
    {
      "cell_type": "code",
      "source": [
        "#단일 값 추출\n",
        "\n",
        "#1부터 9까지의 1차원 ndarray 생성\n",
        "array1=np.arange(start=1, stop=10)\n",
        "print('array1:', array1)\n",
        "#index는 0부터 시작, array1[2]는 3번째 인덱스 위치의 데이터값 의미\n",
        "value=array1[2]\n",
        "print('value:', value)\n",
        "print(type(value))\n",
        "\n",
        "print('맨 뒤의 값:', array1[-1], '맨 뒤에서 두번째 값:', array1[-2])\n",
        "\n",
        "#ndarray 내 데이터 값 수정\n",
        "array1[0]=9\n",
        "array1[8]=0\n",
        "print('array1:', array1)\n",
        "\n",
        "#2차원 ndarray에서 추출\n",
        "array1d=np.arange(start=1, stop=10)\n",
        "array2d=array1d.reshape(3,3)\n",
        "print(array2d)\n",
        "print('(row=0, col=0) index 가리키는 값:', array2d[0,0])\n",
        "print('(row=0, col=1) index 가리키는 값:', array2d[0,1])\n",
        "print('(row=1, col=0) index 가리키는 값:', array2d[1,0])\n",
        "print('(row=1, col=1) index 가리키는 값:', array2d[1,1])"
      ],
      "metadata": {
        "id": "ao7nLimgLHUJ",
        "colab": {
          "base_uri": "https://localhost:8080/"
        },
        "outputId": "6fa326f6-b49a-4843-f379-67643f1b3711"
      },
      "execution_count": 14,
      "outputs": [
        {
          "output_type": "stream",
          "name": "stdout",
          "text": [
            "array1: [1 2 3 4 5 6 7 8 9]\n",
            "value: 3\n",
            "<class 'numpy.int64'>\n",
            "맨 뒤의 값: 9 맨 뒤에서 두번째 값: 8\n",
            "array1: [9 2 3 4 5 6 7 8 0]\n",
            "[[1 2 3]\n",
            " [4 5 6]\n",
            " [7 8 9]]\n",
            "(row=0, col=0) index 가리키는 값: 1\n",
            "(row=0, col=1) index 가리키는 값: 2\n",
            "(row=1, col=0) index 가리키는 값: 4\n",
            "(row=1, col=1) index 가리키는 값: 5\n"
          ]
        }
      ]
    },
    {
      "cell_type": "markdown",
      "source": [
        " **슬라이싱(Slicing)**\\\n",
        "':' 기호를 이용해 연속한 데이터를 슬라이싱해 추출\\\n",
        "단일 데이터값 추출을 제외하고 슬라이싱, 팬시 인덱싱, 불린 인덱싱으로 추출된 데이터 세트는 모두 ndarray 타입\n",
        "\n",
        "\n",
        "```\n",
        "[시작 인덱스 : 종료 인덱스]\n",
        "```\n",
        "\n",
        "\n",
        ">  \":\" 기호 앞에 시작 인덱스를 생략하면 자동으로 맨 처음 인덱스인 0으로 간주\\\n",
        "\":\" 기호 뒤에 종료 인덱스를 생략하면 자동으로 맨 마지막 인덱스로 간주\\\n",
        "\":\" 기호 앞/뒤에 시작/종료 인덱스를 생략하면 자동으로 맨 처음/맨 마지막 인덱스로 간주\n",
        "\n",
        "\n",
        "\n",
        "\n",
        "\n"
      ],
      "metadata": {
        "id": "gfdGG833VYYi"
      }
    },
    {
      "cell_type": "code",
      "source": [
        "array1 = np.arange(start=1, stop=10)\n",
        "array3 = array1[0:3]\n",
        "print(array3)\n",
        "print(type(array3))"
      ],
      "metadata": {
        "colab": {
          "base_uri": "https://localhost:8080/"
        },
        "id": "vG4e4bp9XBKI",
        "outputId": "d13a6480-cd33-42d9-d79f-0d94c1bd9583"
      },
      "execution_count": 15,
      "outputs": [
        {
          "output_type": "stream",
          "name": "stdout",
          "text": [
            "[1 2 3]\n",
            "<class 'numpy.ndarray'>\n"
          ]
        }
      ]
    },
    {
      "cell_type": "code",
      "source": [
        "array1 = np.arange(1,10)\n",
        "array4 = array1[:3]\n",
        "print(array4)\n",
        "\n",
        "array5 = array1[3:]\n",
        "print(array5)\n",
        "\n",
        "array6 = array1[:]\n",
        "print(array6)"
      ],
      "metadata": {
        "colab": {
          "base_uri": "https://localhost:8080/"
        },
        "id": "dWirMhAEXEmr",
        "outputId": "607336c4-a967-4de2-99bd-48133a8792e8"
      },
      "execution_count": 16,
      "outputs": [
        {
          "output_type": "stream",
          "name": "stdout",
          "text": [
            "[1 2 3]\n",
            "[4 5 6 7 8 9]\n",
            "[1 2 3 4 5 6 7 8 9]\n"
          ]
        }
      ]
    },
    {
      "cell_type": "code",
      "source": [
        "#2차원 슬라이싱\n",
        "#row, col 각각에 인덱싱 적용\n",
        "\n",
        "array1d=np.arange(start=1, stop=10)\n",
        "array2d=array1d.reshape(3,3)\n",
        "print('array2d:\\n', array2d)\n",
        "print('array2d[0:2, 0:2] \\n', array2d[0:2, 0:2])\n",
        "print('array2d[1:3, 0:3] \\n', array2d[1:3, 0:3])\n",
        "print('array2d[1:3, :] \\n', array2d[1:3, :])\n",
        "print('array2d[:, :] \\n', array2d[:, :])\n",
        "print('array2d[:2, 1:] \\n', array2d[:2, 1:])\n",
        "print('array2d[:2, 0] \\n', array2d[:2, 0])\n",
        "\n",
        "print(array2d[0])\n",
        "print(array2d[1])\n",
        "print('array2d[0] shape:', array2d[0].shape, 'array2d[1] shape:', array2d[1].shape)"
      ],
      "metadata": {
        "colab": {
          "base_uri": "https://localhost:8080/"
        },
        "id": "JzzjLo_wLO5k",
        "outputId": "362bad78-056a-40d5-e662-de1dc4e8d491"
      },
      "execution_count": 17,
      "outputs": [
        {
          "output_type": "stream",
          "name": "stdout",
          "text": [
            "array2d:\n",
            " [[1 2 3]\n",
            " [4 5 6]\n",
            " [7 8 9]]\n",
            "array2d[0:2, 0:2] \n",
            " [[1 2]\n",
            " [4 5]]\n",
            "array2d[1:3, 0:3] \n",
            " [[4 5 6]\n",
            " [7 8 9]]\n",
            "array2d[1:3, :] \n",
            " [[4 5 6]\n",
            " [7 8 9]]\n",
            "array2d[:, :] \n",
            " [[1 2 3]\n",
            " [4 5 6]\n",
            " [7 8 9]]\n",
            "array2d[:2, 1:] \n",
            " [[2 3]\n",
            " [5 6]]\n",
            "array2d[:2, 0] \n",
            " [1 4]\n",
            "[1 2 3]\n",
            "[4 5 6]\n",
            "array2d[0] shape: (3,) array2d[1] shape: (3,)\n"
          ]
        }
      ]
    },
    {
      "cell_type": "markdown",
      "source": [
        "**팬시 인덱싱(Fancy Indexing)** \\\n",
        "리스트나 ndarray로 인덱스 집합을 지정하면 해당 위치의 인덱스에 해당하는 ndarray를 반환하는 인덱싱 방식"
      ],
      "metadata": {
        "id": "z7_Rx9oHVL2c"
      }
    },
    {
      "cell_type": "code",
      "source": [
        "#Fancy Indexing\n",
        "\n",
        "#2차원 ndarray에 적용\n",
        "array1d=np.arange(start=1, stop=10)\n",
        "array2d=array1d.reshape(3,3)\n",
        "array3=array2d[[0,1],2]\n",
        "print('array2d[[0,1],2]=>', array3.tolist())\n",
        "array4=array2d[[0,1],0:2]\n",
        "print('array2d[[0,1],0:2]=>', array4.tolist())\n",
        "array5=array2d[[0,1]]\n",
        "print('array2d[[0,1]]=>', array5.tolist())"
      ],
      "metadata": {
        "colab": {
          "base_uri": "https://localhost:8080/"
        },
        "id": "PSPFU9acLQ2D",
        "outputId": "ccb7c2a5-a702-4554-ece8-0e7fd2d18ec9"
      },
      "execution_count": 18,
      "outputs": [
        {
          "output_type": "stream",
          "name": "stdout",
          "text": [
            "array2d[[0,1],2]=> [3, 6]\n",
            "array2d[[0,1],0:2]=> [[1, 2], [4, 5]]\n",
            "array2d[[0,1]]=> [[1, 2, 3], [4, 5, 6]]\n"
          ]
        }
      ]
    },
    {
      "cell_type": "markdown",
      "source": [
        "**불린 인덱싱(Boolean Indexing)** \\\n",
        "조건 필터링과 검색을 동시에 할 수 있어 자주 사용되는 인덱싱 방식\\\n",
        "[ ] 내에 조건문 기재"
      ],
      "metadata": {
        "id": "YVwhPq7OVTtm"
      }
    },
    {
      "cell_type": "code",
      "source": [
        "#Boolean Indexing\n",
        "array1d=np.arange(start=1, stop=10)\n",
        "#[]안에 array1d>5 Boolean indexing을 적용\n",
        "array3=array1d[array1d>5]\n",
        "print('array1d>5 불린 인덱싱 결과 값 : ', array3)\n",
        "\n",
        "boolean_indexes=np.array([False, False, False, False, False,  True,  True,  True,  True])\n",
        "array3=array1d[boolean_indexes]\n",
        "print('불린 인덱스로 필터링 결과:', array3)\n",
        "\n",
        "indexes=np.array([5,6,7,8])\n",
        "array4=array1d[indexes]\n",
        "print('일반 인덱스로 필터링 결과:', array4)"
      ],
      "metadata": {
        "colab": {
          "base_uri": "https://localhost:8080/"
        },
        "id": "KkyV6I9ILTJ9",
        "outputId": "ccceef43-331d-42c7-95c4-149636c5c23f"
      },
      "execution_count": 19,
      "outputs": [
        {
          "output_type": "stream",
          "name": "stdout",
          "text": [
            "array1d>5 불린 인덱싱 결과 값 :  [6 7 8 9]\n",
            "불린 인덱스로 필터링 결과: [6 7 8 9]\n",
            "일반 인덱스로 필터링 결과: [6 7 8 9]\n"
          ]
        }
      ]
    },
    {
      "cell_type": "code",
      "source": [
        "array1d>5"
      ],
      "metadata": {
        "colab": {
          "base_uri": "https://localhost:8080/"
        },
        "id": "LhA6fap1ZcFV",
        "outputId": "59c71fba-b311-4577-a965-d8955eb3740d"
      },
      "execution_count": 20,
      "outputs": [
        {
          "output_type": "execute_result",
          "data": {
            "text/plain": [
              "array([False, False, False, False, False,  True,  True,  True,  True])"
            ]
          },
          "metadata": {},
          "execution_count": 20
        }
      ]
    },
    {
      "cell_type": "markdown",
      "source": [
        ">**행렬의 정렬-sort()와 argsort()**\n",
        "\n",
        "**행렬 정렬-sort()**\n",
        "* np.sort() - 넘파이에서 sort를 호출하는 방식, 원 행렬 그대로 유지한 채 원 행렬의 정렬된 행렬을 반환\n",
        "* ndarray.sort() - 행렬 자체에서 sort()를 호출하는 방식, 원 행렬 자체를 정렬한 형태로 변환, 반환 값=None\n"
      ],
      "metadata": {
        "id": "zC7Q5NQvLVYb"
      }
    },
    {
      "cell_type": "code",
      "source": [
        "#행렬 정렬\n",
        "\n",
        "org_array=np.array([3,1,9,5])\n",
        "print('원본 행렬:',org_array)\n",
        "#np.sort()로 정렬\n",
        "sort_array1=np.sort(org_array)\n",
        "print('np.sort() 호출 후 반환된 정렬 행렬:', sort_array1)\n",
        "print('np.sort() 호출 후 원본 행렬:', org_array)\n",
        "#ndarray.sort()로 정렬\n",
        "sort_array2=org_array.sort()\n",
        "print('org_Array.sort() 호출 후 반환된 행렬:', sort_array2)\n",
        "print('org_array.sort() 호출 후 원본 행렬:', org_array)\n",
        "#내림차순 정렬\n",
        "sort_array1_desc=np.sort(org_array)[::-1]\n",
        "print('내림차순으로 정렬:', sort_array1_desc)\n",
        "#2차원\n",
        "array2d=np.array([[8,12],\n",
        "                  [7,1 ]])\n",
        "sort_array2d_axis0=np.sort(array2d, axis=0)\n",
        "print('로우 방향으로 정렬:\\n', sort_array2d_axis0)\n",
        "sort_array2d_axis1=np.sort(array2d, axis=1)\n",
        "print('칼럼 방향으로 정렬:\\n',sort_array2d_axis1)"
      ],
      "metadata": {
        "colab": {
          "base_uri": "https://localhost:8080/"
        },
        "id": "EGY9PJdqLV3q",
        "outputId": "d791c5b7-0310-4147-fdbb-226f382afbea"
      },
      "execution_count": 21,
      "outputs": [
        {
          "output_type": "stream",
          "name": "stdout",
          "text": [
            "원본 행렬: [3 1 9 5]\n",
            "np.sort() 호출 후 반환된 정렬 행렬: [1 3 5 9]\n",
            "np.sort() 호출 후 원본 행렬: [3 1 9 5]\n",
            "org_Array.sort() 호출 후 반환된 행렬: None\n",
            "org_array.sort() 호출 후 원본 행렬: [1 3 5 9]\n",
            "내림차순으로 정렬: [9 5 3 1]\n",
            "로우 방향으로 정렬:\n",
            " [[ 7  1]\n",
            " [ 8 12]]\n",
            "칼럼 방향으로 정렬:\n",
            " [[ 8 12]\n",
            " [ 1  7]]\n"
          ]
        }
      ]
    },
    {
      "cell_type": "markdown",
      "source": [
        "**정렬된 행렬의 인덱스를 반환하기 - np.argsort()**\n",
        "* 원본 행렬이 정렬되었을 때 기존 원본 행렬의 원소에 대한 인덱스를 필요로 할 때 이용\n",
        "* 정렬 행렬의 원본 행렬 인덱스를 ndarray 형으로 반환\n",
        "* ***넘파이에서 매우 활용도가 높음***\n",
        "  * ndarray는 table이나 Dataframe과 같은 메타 데이터를 가질 수 없음\n",
        "  * 실제 값과 그 값이 뜻하는 메타 데이터를 별도의 ndarray로 저장해야 함"
      ],
      "metadata": {
        "id": "O8tVm6SzbbI6"
      }
    },
    {
      "cell_type": "code",
      "source": [
        "#정렬된 행렬의 인덱스를 반환하기\n",
        "\n",
        "org_array=np.array([3,1,9,5])\n",
        "sort_indices=np.argsort(org_array)\n",
        "print(type(sort_indices))\n",
        "print('행렬 정렬 시 원본 행렬의 인덱스:', sort_indices)\n",
        "\n",
        "org_array=np.array([3,1,9,5])\n",
        "sort_indices_desc=np.argsort(org_array)[::-1]\n",
        "print('행렬 내림차순 정렬 시 원본 행렬의 인덱스:', sort_indices_desc)\n",
        "\n",
        "#학생별 시험성적을 데이터로 표현-> 시험 성적순으로 학생 이름 출력\n",
        "name_array=np.array(['John','Mike', 'Sarah', 'Kate', 'Samuel'])\n",
        "score_array=np.array([78,95,84,98,88])\n",
        "sort_indices_asc=np.argsort(score_array)\n",
        "print('성적 오름차순 정렬 시 score_array의 인덱스:', sort_indices_asc)\n",
        "print('성적 오름차순으로 name_array의 이름 출력:', name_array[sort_indices_asc])"
      ],
      "metadata": {
        "id": "JHMvg3-aLYwD",
        "colab": {
          "base_uri": "https://localhost:8080/"
        },
        "outputId": "3828e7c6-2f99-4baf-f36b-e71708a9110a"
      },
      "execution_count": 22,
      "outputs": [
        {
          "output_type": "stream",
          "name": "stdout",
          "text": [
            "<class 'numpy.ndarray'>\n",
            "행렬 정렬 시 원본 행렬의 인덱스: [1 0 3 2]\n",
            "행렬 내림차순 정렬 시 원본 행렬의 인덱스: [2 3 0 1]\n",
            "성적 오름차순 정렬 시 score_array의 인덱스: [0 2 4 1 3]\n",
            "성적 오름차순으로 name_array의 이름 출력: ['John' 'Sarah' 'Samuel' 'Mike' 'Kate']\n"
          ]
        }
      ]
    },
    {
      "cell_type": "markdown",
      "source": [
        ">**선형대수 연산 - 행렬 내적과 전치 행렬 구하기**"
      ],
      "metadata": {
        "id": "xEIT-NqELYVf"
      }
    },
    {
      "cell_type": "code",
      "source": [
        "#행렬 내적(행렬 곱)\n",
        "\n",
        "A=np.array( [[1,2,3],\n",
        "             [4,5,6]] )\n",
        "B=np.array( [[7,8],\n",
        "             [9,10],\n",
        "             [11,12]])\n",
        "dot_product=np.dot(A,B)\n",
        "print('행렬 내적 결과:\\n', dot_product)\n",
        "\n",
        "#전치 행렬\n",
        "A=np.array([[1,2],\n",
        "            [3,4]])\n",
        "transpose_mat=np.transpose(A)\n",
        "print('A의 전치 행렬:\\n', transpose_mat)"
      ],
      "metadata": {
        "id": "Tvxn_ciKLcnM",
        "colab": {
          "base_uri": "https://localhost:8080/"
        },
        "outputId": "ac0443a1-a363-4f08-ad0e-3edf6ca5371f"
      },
      "execution_count": 23,
      "outputs": [
        {
          "output_type": "stream",
          "name": "stdout",
          "text": [
            "행렬 내적 결과:\n",
            " [[ 58  64]\n",
            " [139 154]]\n",
            "A의 전치 행렬:\n",
            " [[1 3]\n",
            " [2 4]]\n"
          ]
        }
      ]
    }
  ]
}