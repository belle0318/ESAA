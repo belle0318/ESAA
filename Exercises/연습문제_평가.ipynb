{
  "nbformat": 4,
  "nbformat_minor": 0,
  "metadata": {
    "colab": {
      "provenance": [],
      "collapsed_sections": []
    },
    "kernelspec": {
      "name": "python3",
      "display_name": "Python 3"
    },
    "language_info": {
      "name": "python"
    }
  },
  "cells": [
    {
      "cell_type": "code",
      "metadata": {
        "id": "4Zqc4O_BfWqZ"
      },
      "source": [
        "# 모듈 및 데이터 로드 \n",
        "from sklearn.datasets import load_breast_cancer \n",
        "from sklearn.linear_model import LogisticRegression \n",
        "\n",
        "data = load_breast_cancer() \n",
        "\n",
        "# x, y 데이터 생성 \n",
        "X = data.data \n",
        "\n",
        "# 악성을 1, 양성을 0으로 \n",
        "y = 1 - data.target \n",
        "\n",
        "# 특징으로 사용할 데이터를 평균으로 구분하는 10개 열로 축소\n",
        "X = X[:, :10] \n",
        "\n",
        "# 로지스틱 회귀 모델 생성 \n",
        "model_lor = LogisticRegression(solver = 'lbfgs') \n",
        "model_lor.fit(X,y) \n",
        "y_pred = model_lor.predict(X)"
      ],
      "execution_count": null,
      "outputs": []
    },
    {
      "cell_type": "markdown",
      "metadata": {
        "id": "faoAfc1ZgAcq"
      },
      "source": [
        "* 오차 행렬(혼동 행렬) 생성"
      ]
    },
    {
      "cell_type": "code",
      "metadata": {
        "id": "JdML8YM0gBtu",
        "colab": {
          "base_uri": "https://localhost:8080/"
        },
        "outputId": "07dbfe00-2a41-4aca-ba1c-52eb04f77b80"
      },
      "source": [
        "# 종속 변수와 예측 결과로 혼동 행렬 생성\n",
        "from sklearn.metrics import confusion_matrix\n",
        "cm = confusion_matrix(y, y_pred)\n",
        "print(cm)"
      ],
      "execution_count": null,
      "outputs": [
        {
          "output_type": "stream",
          "name": "stdout",
          "text": [
            "[[337  20]\n",
            " [ 30 182]]\n"
          ]
        }
      ]
    },
    {
      "cell_type": "markdown",
      "metadata": {
        "id": "xbcK3rT-gFRk"
      },
      "source": [
        "* 정확도"
      ]
    },
    {
      "cell_type": "code",
      "metadata": {
        "id": "NLiXFuYvgI1e",
        "colab": {
          "base_uri": "https://localhost:8080/"
        },
        "outputId": "ef316898-04c1-4790-e17a-99c5d1ee3b61"
      },
      "source": [
        "from sklearn.metrics import accuracy_score\n",
        "print(accuracy_score(y,y_pred))"
      ],
      "execution_count": null,
      "outputs": [
        {
          "output_type": "stream",
          "name": "stdout",
          "text": [
            "0.9121265377855887\n"
          ]
        }
      ]
    },
    {
      "cell_type": "markdown",
      "metadata": {
        "id": "UYnVZS9igNNf"
      },
      "source": [
        "* 정밀도"
      ]
    },
    {
      "cell_type": "code",
      "metadata": {
        "id": "j108NueLgMKF",
        "colab": {
          "base_uri": "https://localhost:8080/"
        },
        "outputId": "699819fc-274e-439e-a344-5e64adb2934f"
      },
      "source": [
        "from sklearn.metrics import precision_score\n",
        "print(precision_score(y,y_pred))"
      ],
      "execution_count": null,
      "outputs": [
        {
          "output_type": "stream",
          "name": "stdout",
          "text": [
            "0.900990099009901\n"
          ]
        }
      ]
    },
    {
      "cell_type": "markdown",
      "metadata": {
        "id": "2-MBquNJZOM4"
      },
      "source": [
        "* 재현율"
      ]
    },
    {
      "cell_type": "code",
      "metadata": {
        "id": "uje4ivPvZPwv",
        "colab": {
          "base_uri": "https://localhost:8080/"
        },
        "outputId": "c3fab2dd-9726-49ea-be58-0885483f30fb"
      },
      "source": [
        "from sklearn.metrics import recall_score\n",
        "print(recall_score(y,y_pred))"
      ],
      "execution_count": null,
      "outputs": [
        {
          "output_type": "stream",
          "name": "stdout",
          "text": [
            "0.8584905660377359\n"
          ]
        }
      ]
    },
    {
      "cell_type": "markdown",
      "metadata": {
        "id": "Cw1p3yjagUCH"
      },
      "source": [
        "* F1 score"
      ]
    },
    {
      "cell_type": "code",
      "metadata": {
        "id": "hPdtYdoDgYgV",
        "colab": {
          "base_uri": "https://localhost:8080/"
        },
        "outputId": "192ff01e-d9b1-485d-e055-e191362af160"
      },
      "source": [
        "from sklearn.metrics import f1_score\n",
        "print(f1_score(y, y_pred))"
      ],
      "execution_count": null,
      "outputs": [
        {
          "output_type": "stream",
          "name": "stdout",
          "text": [
            "0.8792270531400966\n"
          ]
        }
      ]
    },
    {
      "cell_type": "markdown",
      "metadata": {
        "id": "fzwIFsKOW5a1"
      },
      "source": [
        "* 예측 확률(pred_proba) : 0으로 예측할 확률이 0.1보다 크면 y_pred2 에 넣는다 가정."
      ]
    },
    {
      "cell_type": "code",
      "metadata": {
        "id": "nw9dxOiPW40l"
      },
      "source": [
        "from sklearn.preprocessing import Binarizer\n",
        "\n",
        "pred_proba=model_lor.predict_proba(X)\n",
        "pred_proba1=pred_proba[:,1].reshape(-1,1)\n",
        "binarizer=Binarizer(threshold=0.1) # y_pred2 = (model_lor.predict_proba(X)[:,1]>0.1).astype(np.int)로도 가능!\n",
        "y_pred2=binarizer.transform(pred_proba1)"
      ],
      "execution_count": 14,
      "outputs": []
    },
    {
      "cell_type": "code",
      "metadata": {
        "id": "Y-WrHrICYFB1",
        "colab": {
          "base_uri": "https://localhost:8080/"
        },
        "outputId": "1245ed65-66ca-4e37-e8cb-5e77ce73f4b6"
      },
      "source": [
        "# y과 y_pred2의 혼동행렬, 정확도, 정밀도, 재현율, f1 score 구하기\n",
        "# 혼동행렬\n",
        "print(confusion_matrix(y,y_pred2))\n",
        "# 정확도\n",
        "print(accuracy_score(y, y_pred2))\n",
        "# 정밀도\n",
        "print(precision_score(y,y_pred2))\n",
        "# 재현율\n",
        "print(recall_score(y,y_pred2))\n",
        "# f1 score\n",
        "print(f1_score(y, y_pred2))"
      ],
      "execution_count": 15,
      "outputs": [
        {
          "output_type": "stream",
          "name": "stdout",
          "text": [
            "[[267  90]\n",
            " [  6 206]]\n",
            "0.8312829525483304\n",
            "0.6959459459459459\n",
            "0.9716981132075472\n",
            "0.8110236220472441\n"
          ]
        }
      ]
    },
    {
      "cell_type": "markdown",
      "metadata": {
        "id": "itgf_OjsjU-R"
      },
      "source": [
        "* ROC 곡선 시각화"
      ]
    },
    {
      "cell_type": "code",
      "metadata": {
        "id": "DW75xBokjXKy"
      },
      "source": [
        "from sklearn.metrics import roc_curve \n",
        "probas = model_lor.predict_proba(X)\n",
        "\n",
        "fpr, tpr, thresholds = roc_curve(y, probas[:,1])"
      ],
      "execution_count": null,
      "outputs": []
    },
    {
      "cell_type": "code",
      "metadata": {
        "id": "CSJ69SGJVh7m",
        "colab": {
          "base_uri": "https://localhost:8080/",
          "height": 362
        },
        "outputId": "660f443b-8bdd-4f1c-b60e-7bdcee5d0fcd"
      },
      "source": [
        "import matplotlib.pyplot as plt \n",
        "%matplotlib inline\n",
        "\n",
        "plt.style.use('fivethirtyeight')\n",
        "fig, ax = plt.subplots()\n",
        "fig.set_size_inches(4.8, 5)\n",
        "ax.step(fpr, tpr, 'gray')\n",
        "ax.fill_between(fpr, tpr, 0, color='skyblue', alpha=0.8)\n",
        "ax.set_xlabel('False Positive Rate')\n",
        "ax.set_ylabel('True Positive Rate')\n",
        "ax.set_facecolor('xkcd:white')\n",
        "plt.show()"
      ],
      "execution_count": null,
      "outputs": [
        {
          "output_type": "display_data",
          "data": {
            "text/plain": [
              "<Figure size 345.6x360 with 1 Axes>"
            ],
            "image/png": "[encoded data removed]"
          },
          "metadata": {}
        }
      ]
    },
    {
      "cell_type": "code",
      "source": [
        "import matplotlib.pyplot as plt \n",
        "plt.plot(fpr, tpr, label=\"ROC\")"
      ],
      "metadata": {
        "colab": {
          "base_uri": "https://localhost:8080/",
          "height": 300
        },
        "id": "w_3LOS4lT1Ee",
        "outputId": "6aa9f575-7943-489d-db77-6334c89983ab"
      },
      "execution_count": 16,
      "outputs": [
        {
          "output_type": "execute_result",
          "data": {
            "text/plain": [
              "[<matplotlib.lines.Line2D at 0x7f08aeb46290>]"
            ]
          },
          "metadata": {},
          "execution_count": 16
        },
        {
          "output_type": "display_data",
          "data": {
            "text/plain": [
              "<Figure size 432x288 with 1 Axes>"
            ],
            "image/png": "[encoded data removed]"
          },
          "metadata": {}
        }
      ]
    },
    {
      "cell_type": "markdown",
      "metadata": {
        "id": "fL4as0YsWYD7"
      },
      "source": [
        "* ROC AUC 값"
      ]
    },
    {
      "cell_type": "code",
      "metadata": {
        "id": "-SEElVZTWaVp",
        "colab": {
          "base_uri": "https://localhost:8080/"
        },
        "outputId": "e0309a2b-c6c6-4450-d837-5f3d9465bb31"
      },
      "source": [
        "from sklearn.metrics import roc_auc_score\n",
        "print(roc_auc_score(y, y_pred))"
      ],
      "execution_count": 17,
      "outputs": [
        {
          "output_type": "stream",
          "name": "stdout",
          "text": [
            "0.9012340785370753\n"
          ]
        }
      ]
    }
  ]
}